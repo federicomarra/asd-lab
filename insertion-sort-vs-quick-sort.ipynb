{
 "cells": [
  {
   "cell_type": "markdown",
   "source": [
    "# Autore: Federico Marra\n",
    "# Matricola: 7025997\n",
    "# Mail: [federico.marra@edu.unifi.it](mailto:federico.marra@edu.unifi.it)\n",
    "\n",
    "## Esercizio 2 Laboratorio di Algoritmi\n",
    "\n",
    "#### Notebook per confronto tra algoritmi di ordinamento\n",
    "\n",
    "#### Confrontare gli algoritmi Insertion-Sort e Quick-Sort\n",
    "Per fare questo dovremo scrivere un notebook Jupyter che permetta di confrontare i due algoritmi verificando vantaggi e svantaggi degli algoritmi:\n",
    "1. vengono generati i dati di test (esecuzioni diverse devono generare dati diversi)\n",
    "2. vengono eseguiti i test e generati i risultati\n",
    "3. la documentazione del codice e la descrizione degli esperimenti devono essere in Markdown all’interno del notebook stesso"
   ],
   "metadata": {
    "collapsed": false
   },
   "id": "f335b77d3e7c3ef2"
  },
  {
   "cell_type": "markdown",
   "source": [
    "#### Insertion-Sort"
   ],
   "metadata": {
    "collapsed": false
   },
   "id": "dac0665bd0aa726f"
  },
  {
   "cell_type": "code",
   "execution_count": 4,
   "id": "initial_id",
   "metadata": {
    "collapsed": true,
    "ExecuteTime": {
     "end_time": "2023-11-10T13:09:54.072905Z",
     "start_time": "2023-11-10T13:09:53.949153Z"
    }
   },
   "outputs": [],
   "source": [
    "def insertion_sort(A):\n",
    "    for j in range(1, len(A)):\n",
    "        key = A[j]\n",
    "        i = j - 1\n",
    "        while i >= 0 and A[i] > key:\n",
    "            A[i + 1] = A[i]\n",
    "            i = i - 1\n",
    "        A[i + 1] = key\n",
    "    return A"
   ]
  },
  {
   "cell_type": "markdown",
   "source": [
    "#### Quick-Sort"
   ],
   "metadata": {
    "collapsed": false
   },
   "id": "702e165d7fe87cb8"
  },
  {
   "cell_type": "code",
   "execution_count": 5,
   "outputs": [],
   "source": [
    "def quick_sort(A, p, r):\n",
    "    if p < r:\n",
    "        q = partition(A, p, r)\n",
    "        quick_sort(A, p, q - 1)\n",
    "        quick_sort(A, q + 1, r)\n",
    "    return A\n",
    "\n",
    "def partition(A, p, r):\n",
    "    x = A[r]\n",
    "    i = p - 1\n",
    "    for j in range(p, r):\n",
    "        if A[j] <= x:\n",
    "            i = i + 1\n",
    "            A[i], A[j] = A[j], A[i]\n",
    "    A[i + 1], A[r] = A[r], A[i + 1]\n",
    "    return i + 1"
   ],
   "metadata": {
    "collapsed": false,
    "ExecuteTime": {
     "end_time": "2023-11-10T13:09:54.092648Z",
     "start_time": "2023-11-10T13:09:53.974538Z"
    }
   },
   "id": "5d50283b719ca079"
  },
  {
   "cell_type": "markdown",
   "source": [
    "#### Creazione degli array su cui fare testing delle prestazioni\n",
    "\n",
    "Creo 3 array randomici di dimensione 10, 100 e 1000 con valori tra 1 e 100"
   ],
   "metadata": {
    "collapsed": false
   },
   "id": "b13f4ba4da2ae844"
  },
  {
   "cell_type": "code",
   "execution_count": 6,
   "outputs": [
    {
     "name": "stdout",
     "output_type": "stream",
     "text": [
      "Array di dimensione 10: [83, 37, 29, 87, 58, 64, 90, 48, 99, 97]\n",
      "\n",
      "Array di dimensione 100: [97, 20, 84, 34, 56, 58, 60, 66, 86, 33, 63, 78, 62, 78, 51, 69, 41, 32, 54, 91, 40, 55, 77, 79, 99, 31, 6, 2, 83, 55, 94, 8, 47, 83, 20, 15, 48, 88, 55, 50, 90, 74, 55, 4, 69, 92, 3, 17, 52, 62, 32, 97, 89, 66, 81, 77, 27, 10, 71, 23, 87, 5, 99, 2, 34, 32, 4, 23, 18, 31, 76, 99, 100, 61, 44, 78, 100, 97, 77, 72, 41, 88, 69, 9, 80, 65, 63, 90, 32, 87, 63, 81, 93, 58, 3, 33, 10, 55, 82, 20]\n",
      "\n",
      "Array di dimensione 1000: [77, 38, 6, 49, 45, 2, 40, 35, 49, 42, 46, 46, 54, 66, 51, 96, 79, 32, 79, 87, 97, 79, 72, 81, 36, 25, 6, 98, 16, 28, 79, 9, 15, 1, 42, 5, 42, 72, 8, 2, 27, 49, 5, 68, 99, 23, 98, 52, 45, 83, 8, 20, 63, 58, 30, 52, 56, 89, 49, 61, 74, 99, 47, 34, 50, 19, 53, 58, 93, 50, 26, 45, 56, 34, 43, 29, 15, 94, 4, 89, 32, 77, 78, 92, 96, 75, 95, 27, 17, 66, 41, 97, 7, 68, 98, 44, 51, 38, 83, 13, 36, 89, 33, 78, 77, 16, 56, 43, 11, 83, 44, 71, 19, 12, 14, 11, 93, 51, 76, 96, 23, 9, 14, 12, 77, 96, 1, 23, 55, 74, 72, 58, 77, 68, 27, 39, 82, 9, 68, 56, 27, 37, 98, 54, 40, 36, 96, 79, 15, 94, 72, 15, 87, 77, 13, 50, 66, 11, 14, 36, 48, 84, 53, 83, 76, 77, 89, 22, 39, 100, 50, 81, 75, 98, 60, 27, 81, 23, 99, 17, 4, 47, 46, 49, 59, 52, 82, 20, 38, 38, 76, 17, 19, 11, 98, 6, 62, 94, 13, 31, 33, 82, 22, 89, 20, 23, 99, 29, 74, 36, 65, 21, 60, 66, 85, 97, 17, 15, 72, 65, 29, 66, 9, 84, 17, 8, 81, 95, 71, 87, 13, 56, 50, 23, 77, 50, 50, 98, 64, 75, 19, 11, 33, 89, 3, 61, 69, 76, 7, 65, 52, 100, 92, 11, 77, 70, 98, 47, 80, 24, 59, 75, 21, 96, 53, 63, 41, 93, 70, 29, 86, 54, 81, 81, 11, 4, 23, 9, 70, 99, 35, 44, 65, 28, 1, 58, 56, 87, 71, 96, 81, 80, 36, 52, 67, 83, 21, 77, 25, 62, 19, 57, 34, 56, 64, 68, 89, 77, 3, 62, 20, 90, 26, 37, 82, 78, 11, 55, 96, 93, 22, 19, 13, 22, 58, 26, 62, 57, 47, 13, 61, 88, 20, 39, 29, 25, 12, 61, 19, 51, 60, 83, 94, 64, 18, 31, 8, 21, 48, 65, 31, 64, 76, 85, 22, 82, 9, 27, 16, 90, 67, 74, 35, 78, 43, 54, 96, 5, 53, 4, 33, 89, 97, 46, 76, 16, 48, 29, 97, 45, 50, 51, 53, 23, 15, 82, 71, 43, 74, 10, 30, 97, 31, 44, 61, 64, 37, 18, 39, 79, 76, 34, 64, 70, 84, 27, 23, 44, 59, 23, 82, 63, 45, 67, 62, 64, 12, 71, 57, 53, 78, 19, 38, 55, 22, 39, 72, 95, 89, 48, 33, 93, 66, 15, 45, 79, 1, 17, 32, 81, 94, 44, 65, 22, 88, 38, 61, 67, 21, 92, 81, 84, 26, 67, 15, 14, 8, 47, 54, 29, 64, 73, 94, 70, 45, 27, 68, 64, 66, 57, 39, 57, 39, 28, 67, 98, 69, 67, 82, 7, 16, 95, 22, 81, 50, 95, 98, 37, 6, 40, 92, 87, 59, 65, 85, 99, 44, 84, 7, 83, 85, 2, 6, 57, 61, 4, 24, 95, 21, 64, 94, 59, 35, 13, 19, 36, 68, 14, 24, 50, 14, 17, 53, 78, 29, 56, 24, 79, 32, 44, 86, 81, 57, 54, 47, 64, 11, 35, 25, 39, 52, 100, 49, 40, 54, 1, 64, 45, 45, 51, 58, 41, 28, 75, 13, 73, 33, 17, 16, 91, 9, 57, 61, 42, 44, 13, 28, 35, 62, 60, 19, 98, 87, 2, 61, 89, 2, 21, 55, 44, 10, 70, 70, 70, 74, 74, 39, 18, 74, 24, 42, 35, 57, 14, 76, 36, 39, 94, 2, 71, 1, 67, 52, 32, 67, 20, 53, 82, 13, 40, 79, 13, 65, 52, 13, 30, 5, 91, 63, 23, 96, 69, 2, 11, 69, 98, 96, 8, 56, 62, 21, 84, 94, 67, 72, 18, 11, 66, 20, 31, 41, 78, 27, 13, 29, 93, 48, 88, 75, 64, 53, 81, 65, 71, 19, 70, 3, 86, 70, 15, 70, 23, 10, 30, 73, 67, 86, 91, 1, 68, 51, 24, 6, 62, 7, 62, 63, 41, 60, 81, 91, 73, 13, 10, 87, 83, 32, 42, 96, 16, 9, 6, 22, 46, 15, 38, 39, 29, 22, 25, 90, 99, 55, 93, 69, 55, 7, 32, 79, 12, 59, 26, 83, 79, 85, 60, 23, 50, 30, 24, 21, 93, 87, 84, 86, 21, 78, 96, 42, 11, 47, 85, 72, 8, 16, 43, 93, 86, 14, 5, 46, 34, 34, 3, 70, 37, 93, 98, 45, 83, 42, 21, 54, 75, 32, 10, 55, 91, 62, 38, 71, 95, 6, 6, 37, 57, 22, 16, 59, 77, 70, 41, 95, 98, 26, 63, 4, 42, 24, 94, 57, 15, 47, 35, 7, 6, 98, 45, 85, 54, 95, 3, 97, 36, 46, 64, 76, 27, 81, 67, 55, 2, 47, 94, 88, 79, 96, 85, 33, 65, 98, 18, 74, 80, 37, 47, 52, 66, 10, 42, 76, 87, 32, 18, 86, 11, 58, 39, 2, 4, 89, 89, 23, 45, 74, 100, 38, 58, 88, 33, 90, 91, 64, 3, 44, 71, 67, 77, 93, 39, 14, 57, 10, 85, 9, 33, 15, 36, 11, 44, 63, 67, 33, 69, 19, 40, 22, 29, 54, 43, 60, 89, 87, 15, 31, 28, 57, 21, 33, 56, 18, 87, 15, 31, 87, 64, 62, 12, 91, 26, 94, 47, 66, 86, 52, 31, 74, 39, 25, 52, 21, 36, 73, 31, 92, 34, 4, 47, 4, 84, 90, 55, 56, 74, 94, 92, 41, 37, 73, 51, 29, 17, 53, 76, 45, 94, 79, 24, 66, 58, 90, 22, 49, 44, 95, 25, 96, 35, 72, 5, 92, 69, 30, 92, 38, 43, 63, 44, 89, 54, 38, 64, 20, 48, 45, 16, 79, 92, 37, 43, 88, 100, 31, 37, 33, 29, 98, 96, 31, 29, 40, 7, 64, 80, 89, 45, 55, 45, 82, 66, 100, 56, 52, 55, 81, 85, 18, 7, 43, 75, 36, 14, 74, 55, 44, 90, 28, 32, 95, 17]\n"
     ]
    }
   ],
   "source": [
    "# Necessito dell'importazione della libreria random per la randomizzazione dei valori\n",
    "import random\n",
    "\n",
    "# Array di dimensione 10\n",
    "A = [random.randint(1, 100) for _ in range(10)]\n",
    "\n",
    "# Array di dimensione 100\n",
    "B = [random.randint(1, 100) for _ in range(100)]\n",
    "\n",
    "# Array di dimensione 1000\n",
    "C = [random.randint(1, 100) for _ in range(1000)]\n",
    "\n",
    "# Array contenente i riferimenti agli array creati in precedenza\n",
    "arrays = [A, B, C]\n",
    "\n",
    "# Stampa degli array creati\n",
    "for i in range(len(arrays)):\n",
    "    print(f\"Array di dimensione {len(arrays[i])}:\", arrays[i])\n",
    "    print()"
   ],
   "metadata": {
    "collapsed": false,
    "ExecuteTime": {
     "end_time": "2023-11-10T13:09:54.096142Z",
     "start_time": "2023-11-10T13:09:53.999663Z"
    }
   },
   "id": "43a6769747d78956"
  }
 ],
 "metadata": {
  "kernelspec": {
   "display_name": "Python 3",
   "language": "python",
   "name": "python3"
  },
  "language_info": {
   "codemirror_mode": {
    "name": "ipython",
    "version": 2
   },
   "file_extension": ".py",
   "mimetype": "text/x-python",
   "name": "python",
   "nbconvert_exporter": "python",
   "pygments_lexer": "ipython2",
   "version": "2.7.6"
  }
 },
 "nbformat": 4,
 "nbformat_minor": 5
}
