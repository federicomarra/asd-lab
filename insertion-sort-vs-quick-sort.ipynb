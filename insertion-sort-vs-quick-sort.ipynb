{
 "cells": [
  {
   "cell_type": "markdown",
   "source": [
    "# Autore: Federico Marra\n",
    "# Matricola: 7025997\n",
    "# Mail: [federico.marra@edu.unifi.it](mailto:federico.marra@edu.unifi.it)\n",
    "\n",
    "## Esercizio 2 Laboratorio di Algoritmi\n",
    "\n",
    "#### Notebook per confronto tra gli algoritmi di ordinamento Insertion-Sort e Quick-Sort\n",
    "Per fare questo dovremo scrivere un notebook Jupyter che permetta di confrontare i due algoritmi verificando vantaggi e svantaggi degli algoritmi:\n",
    "1. vengono generati i dati di test (esecuzioni diverse devono generare dati diversi)\n",
    "2. vengono eseguiti i test e generati i risultati\n",
    "3. la documentazione del codice e la descrizione degli esperimenti devono essere in Markdown all’interno del notebook stesso"
   ],
   "metadata": {
    "collapsed": false
   },
   "id": "f335b77d3e7c3ef2"
  },
  {
   "cell_type": "markdown",
   "source": [
    "## Indice\n",
    "1. [Introduzione](#Introduzione)\n",
    "2. [Algoritmi di ordinamento](#Algoritmi-di-ordinamento)\n",
    "   - [Insertion-Sort](#Insertion-sort)\n",
    "       1. [Complessità](#Complessità)\n",
    "       2. [Correttezza](#Correttezza)\n",
    "       3. [Stabilità](#Stabilità)\n",
    "   - [Quick-Sort](#Quick-sort)\n",
    "       1. [Complessità](#Complessità-i)\n",
    "       2. [Correttezza](#Correttezza-i)\n",
    "       3. [Stabilità](#Stabilità-i)\n",
    "3. [Test](#Test)\n",
    "    - [Librerie utilizzate](#Librerie-utilizzate)\n",
    "    - [Esecuzione dei test](#Esecuzione-dei-test)\n",
    "4. [Generazione delle tabelle dei tempi di esecuzione](#Generazione-delle-tabelle-dei-tempi-di-esecuzione)\n",
    "5. [Generazione dei grafici](#Generazione-dei-grafici)\n",
    "6. [Osservazioni finali](#Osservazioni-finali)\n",
    "   - [Caso peggiore: valori ordinati inversamente](#Caso-peggiore:-valori-ordinati-inversamente)\n",
    "   - [Caso medio: valori casuali)](#Caso-medio:-valori-casuali)\n",
    "   - [Caso migliore: valori già ordinati correttamente](#Caso-migliore:-valori-già-ordinati-correttamente)\n",
    "7. [Ulteriori osservazioni e conclusioni](#Ulteriori-osservazioni-e-conclusioni)\n",
    "8. [Bibliografia](#Bibliografia)"
   ],
   "metadata": {
    "collapsed": false
   },
   "id": "23a1e3672f880388"
  },
  {
   "cell_type": "markdown",
   "source": [
    "# Introduzione\n",
    "Questo notebook è stato creato per confrontare le prestazioni degli algoritmi di ordinamento Insertion-Sort e Quick-Sort.\n",
    "L'obiettivo principale è la comprensione delle differenze di prestazione tra i due algoritmi, in particolare in base alla dimensione dell'array su cui vengono eseguiti e dal tipo di array, ovvero se rappresenta il caso peggiore, medio o migliore.\n",
    "Per l'esecuzione dei test e del rendering grafico dei risultati verranno utilizzate le librerie Matplotlib e Random:\n",
    "- **matplotlib**: usato per generare grafici e tabelle in modo tale di analizzare visivamente le prestazioni dei due algoritmi\n",
    "- **random**: usato per generare grafici e tabelle in modo tale di analizzare visivamente le prestazioni dei due algoritmi"
   ],
   "metadata": {
    "collapsed": false
   },
   "id": "d4f278ebd41ba3de"
  },
  {
   "cell_type": "markdown",
   "source": [
    "# Algoritmi di ordinamento\n"
   ],
   "metadata": {
    "collapsed": false
   },
   "id": "8daa2bded66fe33e"
  },
  {
   "cell_type": "markdown",
   "source": [
    "## Insertion-Sort\n",
    "\n",
    "![](https://upload.wikimedia.org/wikipedia/commons/2/24/Sorting_insertion_sort_anim.gif)"
   ],
   "metadata": {
    "collapsed": false
   },
   "id": "dac0665bd0aa726f"
  },
  {
   "cell_type": "code",
   "execution_count": 1,
   "id": "initial_id",
   "metadata": {
    "collapsed": true,
    "ExecuteTime": {
     "end_time": "2023-11-24T13:05:21.334929Z",
     "start_time": "2023-11-24T13:05:21.289290Z"
    }
   },
   "outputs": [],
   "source": [
    "def insertion_sort(array):\n",
    "    for j in range(1, len(array)):\n",
    "        key = array[j]\n",
    "        i = j - 1\n",
    "        while i >= 0 and array[i] > key:\n",
    "            array[i + 1] = array[i]\n",
    "            i = i - 1\n",
    "        array[i + 1] = key\n",
    "    return array"
   ]
  },
  {
   "cell_type": "code",
   "execution_count": null,
   "outputs": [],
   "source": [
    "import pickle as pk\n",
    "\n",
    "favorite_color = {\"lion\": \"yellow\", \"kitty\": \"red\"}\n",
    "pk.dump(favorite_color, open(\"save.p\", \"wb\"))"
   ],
   "metadata": {
    "collapsed": false
   },
   "id": "c72a529d7b6e0f4"
  },
  {
   "cell_type": "code",
   "execution_count": null,
   "outputs": [],
   "source": [
    "from timeit import default_timer as timer\n",
    "start = timer()\n",
    "for i in range(1,10):\n",
    "    print(i,end=\",\")\n",
    "end = timer()\n",
    "print()\n",
    "print((end - start)*1000, \"ms\")"
   ],
   "metadata": {
    "collapsed": false
   },
   "id": "e15946a00d06b88e"
  },
  {
   "cell_type": "markdown",
   "source": [
    "### Complessità\n",
    "La complessità dell'algoritmo di Insertion-Sort è pari a $O(n^2)$, dove $n$ è la dimensione dell'array su cui viene eseguito.\n",
    "### Correttezza\n",
    "L'algoritmo di Insertion-Sort è corretto in quanto:\n",
    "- **Inizializzazione**: all'inizio di ogni iterazione del ciclo for, l'array $A[1..j-1]$ è ordinato e contiene gli stessi elementi di $A[1..j-1]$.\n",
    "- **Mantenimento**: ogni iterazione del ciclo for mantiene l'invariante di ciclo. Se $A[1..j-1]$ è ordinato e contiene gli stessi elementi di $A[1..j-1]$, allora il ciclo while trova la posizione corretta per $A[j]$ e inserisce il valore in quella posizione.\n",
    "- **Terminazione**: quando il ciclo for termina, $j = n + 1$. Per l'invariante di ciclo, questo implica che $A[1..n]$ è ordinato e contiene gli stessi elementi di $A[1..n]$, ovvero l'array è ordinato correttamente.\n",
    "- **Correttezza**: l'algoritmo è corretto in quanto l'inizializzazione, il mantenimento e la terminazione sono verificate.\n",
    "- **Complessità**: l'algoritmo ha complessità $O(n^2)$, dove $n$ è la dimensione dell'array su cui viene eseguito.\n",
    "- **Stabilità**: l'algoritmo è stabile in quanto gli elementi uguali non vengono scambiati di posizione.\n",
    "- **Adattività**: l'algoritmo è adattivo in quanto se l'array è già ordinato correttamente, l'algoritmo ha complessità $O(n)$.\n",
    "- **In-Place**: l'algoritmo è in-place in quanto non necessita di memoria aggiuntiva per l'esecuzione.\n",
    "- **Online**: l'algoritmo è online in quanto non necessita di conoscere l'intero input per poter iniziare l'esecuzione.\n",
    "- **Sottosequenze**: l'algoritmo non è ottimo per sottosequenze in quanto non è possibile dividere l'input in sottosequenze e ordinare ogni sottosequenza in modo indipendente.\n",
    "- **Adattività**: l'algoritmo è adattivo in quanto se l'array è già ordinato correttamente, l'algoritmo ha complessità $O(n)$.\n",
    "- **In-Place**: l'algoritmo è in-place in quanto non necessita di memoria aggiuntiva per l'esecuzione.\n",
    "- **Online**: l'algoritmo è online in quanto non necessita di conoscere l'intero input per poter iniziare l'esecuzione.\n",
    "- **Sottosequenze**: l'algoritmo non è ottimo per sottosequenze in quanto non è possibile dividere l'input in sottosequenze e ordinare ogni sottosequenza in modo indipendente.\n",
    "- **Adattività**: l'algoritmo è adattivo in quanto se l'array è già ordinato correttamente, l'algoritmo ha complessità $O(n)$."
   ],
   "metadata": {
    "collapsed": false
   },
   "id": "d5cfdf76a4fdcf2a"
  },
  {
   "cell_type": "markdown",
   "source": [
    "## Quick-Sort\n",
    "![](https://upload.wikimedia.org/wikipedia/commons/6/6a/Sorting_quicksort_anim.gif)"
   ],
   "metadata": {
    "collapsed": false
   },
   "id": "702e165d7fe87cb8"
  },
  {
   "cell_type": "code",
   "execution_count": null,
   "outputs": [],
   "source": [
    "def quick_sort(array, p, r):\n",
    "    if p < r:\n",
    "        q = partition(array, p, r)\n",
    "        quick_sort(array, p, q - 1)\n",
    "        quick_sort(array, q + 1, r)\n",
    "    return array\n",
    "\n",
    "def partition(array, p, r):\n",
    "    x = array[r]\n",
    "    i = p - 1\n",
    "    for j in range(p, r):\n",
    "        if array[j] <= x:\n",
    "            i = i + 1\n",
    "            array[i], array[j] = array[j], array[i]\n",
    "    array[i + 1], array[r] = array[r], array[i + 1]\n",
    "    return i + 1"
   ],
   "metadata": {
    "collapsed": false
   },
   "id": "5d50283b719ca079"
  },
  {
   "cell_type": "markdown",
   "source": [
    "#### Creazione degli array su cui fare testing delle prestazioni\n",
    "\n",
    "Creo 3 array randomici di dimensione 10, 100 e 1000 con valori tra 1 e 100"
   ],
   "metadata": {
    "collapsed": false
   },
   "id": "b13f4ba4da2ae844"
  },
  {
   "cell_type": "code",
   "execution_count": null,
   "outputs": [],
   "source": [
    "# Necessito dell'importazione della libreria random per la randomizzazione dei valori\n",
    "import random\n",
    "\n",
    "# Array di dimensione 10\n",
    "A = [random.randint(1, 100) for _ in range(10)]\n",
    "\n",
    "# Array di dimensione 100\n",
    "B = [random.randint(1, 100) for _ in range(100)]\n",
    "\n",
    "# Array di dimensione 1000\n",
    "C = [random.randint(1, 100) for _ in range(1000)]\n",
    "\n",
    "# Array contenente i riferimenti agli array creati in precedenza\n",
    "arrays = [A, B, C]\n",
    "\n",
    "# Stampa degli array creati\n",
    "for i in range(len(arrays)):\n",
    "    print(f\"Array di dimensione {len(arrays[i])}:\", arrays[i])\n",
    "    print()"
   ],
   "metadata": {
    "collapsed": false
   },
   "id": "43a6769747d78956"
  }
 ],
 "metadata": {
  "kernelspec": {
   "display_name": "Python 3",
   "language": "python",
   "name": "python3"
  },
  "language_info": {
   "codemirror_mode": {
    "name": "ipython",
    "version": 2
   },
   "file_extension": ".py",
   "mimetype": "text/x-python",
   "name": "python",
   "nbconvert_exporter": "python",
   "pygments_lexer": "ipython2",
   "version": "2.7.6"
  }
 },
 "nbformat": 4,
 "nbformat_minor": 5
}
